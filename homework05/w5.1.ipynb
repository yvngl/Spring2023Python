{
 "cells": [
  {
   "cell_type": "code",
   "execution_count": 122,
   "id": "60e1fc2e",
   "metadata": {},
   "outputs": [
    {
     "name": "stdout",
     "output_type": "stream",
     "text": [
      "1 2 3 4 5\n",
      "1 3 5\n"
     ]
    }
   ],
   "source": [
    "# Задание 1\n",
    "\n",
    "print(' '.join(input().split()[0::2]))"
   ]
  },
  {
   "cell_type": "code",
   "execution_count": 124,
   "id": "3483c351",
   "metadata": {},
   "outputs": [
    {
     "name": "stdout",
     "output_type": "stream",
     "text": [
      "1 2 3 2 1\n",
      "3 2\n"
     ]
    }
   ],
   "source": [
    "# Задание 2\n",
    "\n",
    "a = input().split()\n",
    "print(max(a), a.index(max(a)))"
   ]
  },
  {
   "cell_type": "code",
   "execution_count": 125,
   "id": "510777b2",
   "metadata": {},
   "outputs": [
    {
     "name": "stdout",
     "output_type": "stream",
     "text": [
      "1 2 3 4 5\n",
      "5 4 3 2 1\n"
     ]
    }
   ],
   "source": [
    "# Задание 3\n",
    "\n",
    "print(' '.join(input().split()[::-1]))"
   ]
  },
  {
   "cell_type": "code",
   "execution_count": 126,
   "id": "6f72b4b8",
   "metadata": {},
   "outputs": [
    {
     "name": "stdout",
     "output_type": "stream",
     "text": [
      "1 2 3 4 5\n",
      "2 1 4 3 5\n"
     ]
    }
   ],
   "source": [
    "# Задание 4\n",
    "\n",
    "a = input().split()\n",
    "a[0:len(a)-1:2], a[1::2] = a[1::2], a[0:len(a)-1:2]\n",
    "print(' '.join(a))"
   ]
  },
  {
   "cell_type": "code",
   "execution_count": 127,
   "id": "da359be2",
   "metadata": {},
   "outputs": [
    {
     "name": "stdout",
     "output_type": "stream",
     "text": [
      "1 2 3 4 5\n",
      "5 1 2 3 4\n"
     ]
    }
   ],
   "source": [
    "# Задание 5\n",
    "\n",
    "a = input().split()\n",
    "print(' '.join([a[len(a)-1]] + a[:len(a)-1]))"
   ]
  },
  {
   "cell_type": "code",
   "execution_count": 128,
   "id": "0542e5bb",
   "metadata": {},
   "outputs": [
    {
     "name": "stdout",
     "output_type": "stream",
     "text": [
      "7 6 5 4 3 2 1\n",
      "2\n",
      "7 6 4 3 2 1\n"
     ]
    }
   ],
   "source": [
    "# Задание 6\n",
    "\n",
    "a, n = input().split(), int(input())\n",
    "a.remove(a[n])\n",
    "print(' '.join(a))"
   ]
  },
  {
   "cell_type": "code",
   "execution_count": 135,
   "id": "fbb8a715",
   "metadata": {},
   "outputs": [
    {
     "name": "stdout",
     "output_type": "stream",
     "text": [
      "7 6 5 4 3 2 1\n",
      "2 0\n",
      "7 6 0 5 4 3 2 1\n"
     ]
    }
   ],
   "source": [
    "# Задание 7\n",
    "\n",
    "a = input().split()\n",
    "n, elem = map(int, input().split())\n",
    "print(' '.join(a[:n] + [f\"{elem}\"] + a[n:]))"
   ]
  },
  {
   "cell_type": "code",
   "execution_count": 136,
   "id": "7950a05d",
   "metadata": {},
   "outputs": [
    {
     "name": "stdout",
     "output_type": "stream",
     "text": [
      "5 3 7 4 6\n",
      "3\n",
      "7 4 6 5 3\n"
     ]
    }
   ],
   "source": [
    "# Задание 8\n",
    "\n",
    "a, n = input().split(), int(input())\n",
    "print(' '.join(a[n-1:] + a[:n-1]))"
   ]
  }
 ],
 "metadata": {
  "kernelspec": {
   "display_name": "Python 3 (ipykernel)",
   "language": "python",
   "name": "python3"
  },
  "language_info": {
   "codemirror_mode": {
    "name": "ipython",
    "version": 3
   },
   "file_extension": ".py",
   "mimetype": "text/x-python",
   "name": "python",
   "nbconvert_exporter": "python",
   "pygments_lexer": "ipython3",
   "version": "3.11.3"
  }
 },
 "nbformat": 4,
 "nbformat_minor": 5
}
